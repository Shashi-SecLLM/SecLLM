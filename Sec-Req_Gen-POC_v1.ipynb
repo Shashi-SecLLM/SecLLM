{
  "cells": [
    {
      "cell_type": "markdown",
      "id": "dYkwGVwZhjoTjDg0kSSIv8zv",
      "metadata": {
        "tags": [],
        "id": "dYkwGVwZhjoTjDg0kSSIv8zv"
      },
      "source": [
        "1. Install the Vertex AI SDK: Open a terminal window and enter the command below. You can also [install it in a virtualenv](https://googleapis.dev/python/aiplatform/latest/index.html)"
      ]
    },
    {
      "cell_type": "code",
      "id": "vuNq8FZzmKkrNRckUtilwsA1",
      "metadata": {
        "tags": [],
        "id": "vuNq8FZzmKkrNRckUtilwsA1",
        "colab": {
          "base_uri": "https://localhost:8080/",
          "height": 868
        },
        "executionInfo": {
          "status": "ok",
          "timestamp": 1716948557346,
          "user_tz": 420,
          "elapsed": 39679,
          "user": {
            "displayName": "",
            "userId": ""
          }
        },
        "outputId": "c7af8473-3494-4f64-8883-8946ec159b12"
      },
      "source": [
        "!pip install --upgrade google-cloud-aiplatform"
      ],
      "execution_count": null,
      "outputs": [
        {
          "output_type": "stream",
          "name": "stdout",
          "text": [
            "Requirement already satisfied: google-cloud-aiplatform in /usr/local/lib/python3.10/dist-packages (1.51.0)\n",
            "Collecting google-cloud-aiplatform\n",
            "  Downloading google_cloud_aiplatform-1.52.0-py2.py3-none-any.whl (5.0 MB)\n",
            "\u001b[2K     \u001b[90m━━━━━━━━━━━━━━━━━━━━━━━━━━━━━━━━━━━━━━━━\u001b[0m \u001b[32m5.0/5.0 MB\u001b[0m \u001b[31m14.9 MB/s\u001b[0m eta \u001b[36m0:00:00\u001b[0m\n",
            "\u001b[?25hRequirement already satisfied: google-api-core[grpc]!=2.0.*,!=2.1.*,!=2.2.*,!=2.3.*,!=2.4.*,!=2.5.*,!=2.6.*,!=2.7.*,<3.0.0dev,>=1.34.1 in /usr/local/lib/python3.10/dist-packages (from google-cloud-aiplatform) (2.11.1)\n",
            "Requirement already satisfied: google-auth<3.0.0dev,>=2.14.1 in /usr/local/lib/python3.10/dist-packages (from google-cloud-aiplatform) (2.27.0)\n",
            "Requirement already satisfied: proto-plus<2.0.0dev,>=1.22.0 in /usr/local/lib/python3.10/dist-packages (from google-cloud-aiplatform) (1.23.0)\n",
            "Requirement already satisfied: protobuf!=3.20.0,!=3.20.1,!=4.21.0,!=4.21.1,!=4.21.2,!=4.21.3,!=4.21.4,!=4.21.5,<5.0.0dev,>=3.19.5 in /usr/local/lib/python3.10/dist-packages (from google-cloud-aiplatform) (3.20.3)\n",
            "Requirement already satisfied: packaging>=14.3 in /usr/local/lib/python3.10/dist-packages (from google-cloud-aiplatform) (24.0)\n",
            "Requirement already satisfied: google-cloud-storage<3.0.0dev,>=1.32.0 in /usr/local/lib/python3.10/dist-packages (from google-cloud-aiplatform) (2.8.0)\n",
            "Requirement already satisfied: google-cloud-bigquery!=3.20.0,<4.0.0dev,>=1.15.0 in /usr/local/lib/python3.10/dist-packages (from google-cloud-aiplatform) (3.21.0)\n",
            "Requirement already satisfied: google-cloud-resource-manager<3.0.0dev,>=1.3.3 in /usr/local/lib/python3.10/dist-packages (from google-cloud-aiplatform) (1.12.3)\n",
            "Requirement already satisfied: shapely<3.0.0dev in /usr/local/lib/python3.10/dist-packages (from google-cloud-aiplatform) (2.0.4)\n",
            "Requirement already satisfied: pydantic<3 in /usr/local/lib/python3.10/dist-packages (from google-cloud-aiplatform) (1.10.15)\n",
            "Requirement already satisfied: docstring-parser<1 in /usr/local/lib/python3.10/dist-packages (from google-cloud-aiplatform) (0.16)\n",
            "Requirement already satisfied: googleapis-common-protos<2.0.dev0,>=1.56.2 in /usr/local/lib/python3.10/dist-packages (from google-api-core[grpc]!=2.0.*,!=2.1.*,!=2.2.*,!=2.3.*,!=2.4.*,!=2.5.*,!=2.6.*,!=2.7.*,<3.0.0dev,>=1.34.1->google-cloud-aiplatform) (1.63.0)\n",
            "Requirement already satisfied: requests<3.0.0.dev0,>=2.18.0 in /usr/local/lib/python3.10/dist-packages (from google-api-core[grpc]!=2.0.*,!=2.1.*,!=2.2.*,!=2.3.*,!=2.4.*,!=2.5.*,!=2.6.*,!=2.7.*,<3.0.0dev,>=1.34.1->google-cloud-aiplatform) (2.31.0)\n",
            "Requirement already satisfied: grpcio<2.0dev,>=1.33.2 in /usr/local/lib/python3.10/dist-packages (from google-api-core[grpc]!=2.0.*,!=2.1.*,!=2.2.*,!=2.3.*,!=2.4.*,!=2.5.*,!=2.6.*,!=2.7.*,<3.0.0dev,>=1.34.1->google-cloud-aiplatform) (1.63.0)\n",
            "Requirement already satisfied: grpcio-status<2.0.dev0,>=1.33.2 in /usr/local/lib/python3.10/dist-packages (from google-api-core[grpc]!=2.0.*,!=2.1.*,!=2.2.*,!=2.3.*,!=2.4.*,!=2.5.*,!=2.6.*,!=2.7.*,<3.0.0dev,>=1.34.1->google-cloud-aiplatform) (1.48.2)\n",
            "Requirement already satisfied: cachetools<6.0,>=2.0.0 in /usr/local/lib/python3.10/dist-packages (from google-auth<3.0.0dev,>=2.14.1->google-cloud-aiplatform) (5.3.3)\n",
            "Requirement already satisfied: pyasn1-modules>=0.2.1 in /usr/local/lib/python3.10/dist-packages (from google-auth<3.0.0dev,>=2.14.1->google-cloud-aiplatform) (0.4.0)\n",
            "Requirement already satisfied: rsa<5,>=3.1.4 in /usr/local/lib/python3.10/dist-packages (from google-auth<3.0.0dev,>=2.14.1->google-cloud-aiplatform) (4.9)\n",
            "Requirement already satisfied: google-cloud-core<3.0.0dev,>=1.6.0 in /usr/local/lib/python3.10/dist-packages (from google-cloud-bigquery!=3.20.0,<4.0.0dev,>=1.15.0->google-cloud-aiplatform) (2.3.3)\n",
            "Requirement already satisfied: google-resumable-media<3.0dev,>=0.6.0 in /usr/local/lib/python3.10/dist-packages (from google-cloud-bigquery!=3.20.0,<4.0.0dev,>=1.15.0->google-cloud-aiplatform) (2.7.0)\n",
            "Requirement already satisfied: python-dateutil<3.0dev,>=2.7.2 in /usr/local/lib/python3.10/dist-packages (from google-cloud-bigquery!=3.20.0,<4.0.0dev,>=1.15.0->google-cloud-aiplatform) (2.8.2)\n",
            "Requirement already satisfied: grpc-google-iam-v1<1.0.0dev,>=0.12.4 in /usr/local/lib/python3.10/dist-packages (from google-cloud-resource-manager<3.0.0dev,>=1.3.3->google-cloud-aiplatform) (0.13.0)\n",
            "Requirement already satisfied: typing-extensions>=4.2.0 in /usr/local/lib/python3.10/dist-packages (from pydantic<3->google-cloud-aiplatform) (4.11.0)\n",
            "Requirement already satisfied: numpy<3,>=1.14 in /usr/local/lib/python3.10/dist-packages (from shapely<3.0.0dev->google-cloud-aiplatform) (1.25.2)\n",
            "Requirement already satisfied: google-crc32c<2.0dev,>=1.0 in /usr/local/lib/python3.10/dist-packages (from google-resumable-media<3.0dev,>=0.6.0->google-cloud-bigquery!=3.20.0,<4.0.0dev,>=1.15.0->google-cloud-aiplatform) (1.5.0)\n",
            "Requirement already satisfied: pyasn1<0.7.0,>=0.4.6 in /usr/local/lib/python3.10/dist-packages (from pyasn1-modules>=0.2.1->google-auth<3.0.0dev,>=2.14.1->google-cloud-aiplatform) (0.6.0)\n",
            "Requirement already satisfied: six>=1.5 in /usr/local/lib/python3.10/dist-packages (from python-dateutil<3.0dev,>=2.7.2->google-cloud-bigquery!=3.20.0,<4.0.0dev,>=1.15.0->google-cloud-aiplatform) (1.16.0)\n",
            "Requirement already satisfied: charset-normalizer<4,>=2 in /usr/local/lib/python3.10/dist-packages (from requests<3.0.0.dev0,>=2.18.0->google-api-core[grpc]!=2.0.*,!=2.1.*,!=2.2.*,!=2.3.*,!=2.4.*,!=2.5.*,!=2.6.*,!=2.7.*,<3.0.0dev,>=1.34.1->google-cloud-aiplatform) (3.3.2)\n",
            "Requirement already satisfied: idna<4,>=2.5 in /usr/local/lib/python3.10/dist-packages (from requests<3.0.0.dev0,>=2.18.0->google-api-core[grpc]!=2.0.*,!=2.1.*,!=2.2.*,!=2.3.*,!=2.4.*,!=2.5.*,!=2.6.*,!=2.7.*,<3.0.0dev,>=1.34.1->google-cloud-aiplatform) (3.7)\n",
            "Requirement already satisfied: urllib3<3,>=1.21.1 in /usr/local/lib/python3.10/dist-packages (from requests<3.0.0.dev0,>=2.18.0->google-api-core[grpc]!=2.0.*,!=2.1.*,!=2.2.*,!=2.3.*,!=2.4.*,!=2.5.*,!=2.6.*,!=2.7.*,<3.0.0dev,>=1.34.1->google-cloud-aiplatform) (2.0.7)\n",
            "Requirement already satisfied: certifi>=2017.4.17 in /usr/local/lib/python3.10/dist-packages (from requests<3.0.0.dev0,>=2.18.0->google-api-core[grpc]!=2.0.*,!=2.1.*,!=2.2.*,!=2.3.*,!=2.4.*,!=2.5.*,!=2.6.*,!=2.7.*,<3.0.0dev,>=1.34.1->google-cloud-aiplatform) (2024.2.2)\n",
            "Installing collected packages: google-cloud-aiplatform\n",
            "  Attempting uninstall: google-cloud-aiplatform\n",
            "    Found existing installation: google-cloud-aiplatform 1.51.0\n",
            "    Uninstalling google-cloud-aiplatform-1.51.0:\n",
            "      Successfully uninstalled google-cloud-aiplatform-1.51.0\n",
            "Successfully installed google-cloud-aiplatform-1.52.0\n"
          ]
        },
        {
          "output_type": "display_data",
          "data": {
            "application/vnd.colab-display-data+json": {
              "pip_warning": {
                "packages": [
                  "google"
                ]
              },
              "id": "d5faedd7e7494cda938763191ff49164"
            }
          },
          "metadata": {}
        }
      ]
    },
    {
      "cell_type": "markdown",
      "id": "S4uu3AcjT3gMJXswFwnsbKkx",
      "metadata": {
        "tags": [],
        "id": "S4uu3AcjT3gMJXswFwnsbKkx"
      },
      "source": [
        "2. Use the following code in your application to request a model response"
      ]
    },
    {
      "cell_type": "code",
      "id": "qTlFNi5tr9BlhGUQXl7itzVk",
      "metadata": {
        "tags": [],
        "id": "qTlFNi5tr9BlhGUQXl7itzVk",
        "colab": {
          "base_uri": "https://localhost:8080/"
        },
        "executionInfo": {
          "status": "ok",
          "timestamp": 1716948591988,
          "user_tz": 420,
          "elapsed": 17535,
          "user": {
            "displayName": "",
            "userId": ""
          }
        },
        "outputId": "298689fb-9268-4e3c-c65e-5b79cd9f3490"
      },
      "source": [
        "import base64\n",
        "import vertexai\n",
        "from vertexai.generative_models import GenerativeModel, Part\n",
        "import vertexai.preview.generative_models as generative_models\n",
        "\n",
        "\n",
        "def multiturn_generate_content():\n",
        "  vertexai.init(project=\"secllm-poc-secreq-model\", location=\"us-west1\")\n",
        "  model = GenerativeModel(\n",
        "    \"gemini-1.5-flash-001\",\n",
        "    system_instruction=[textsi_1]\n",
        "  )\n",
        "  chat = model.start_chat()\n",
        "  print(chat.send_message(\n",
        "      [document1_1, document1_2, image1_1, text1_1],\n",
        "      generation_config=generation_config,\n",
        "      safety_settings=safety_settings\n",
        "  ).text)\n",
        "\n",
        "# 3. Use the following code in your application to request a model response.\n",
        "# The Security control.txt will have list of security controls that organization already implemented\n",
        "document1_1 = Part.from_uri(\n",
        "    mime_type=\"text/plain\",\n",
        "    uri=\"gs://sec-req-gen-poc/Security Controls.txt\")\n",
        "document1_2 = Part.from_uri(\n",
        "    mime_type=\"text/plain\",\n",
        "    uri=\"gs://sec-req-gen-poc/User Stories for dating app.txt\")\n",
        "image1_1 = Part.from_uri(\n",
        "    mime_type=\"image/png\",\n",
        "    uri=\"gs://sec-req-gen-poc/serverless-web-app.png\")\n",
        "text1_1 = \"\"\"Utilize the provided User Stories and Solution Architecture to conduct a security review. Generate Security Requirements and Controls that have not been implemented as specified in the Security Control Document. Present this information in a tabular format. For suggesting security controls, refer to the OWASP Proactive Security Control Framework\"\"\"\n",
        "textsi_1 = \"\"\"You are Product security Engineer, Based on Solution architecture, Jira User stories and Security controls implemented within Enterprise, you will help to create security requirements and Controls. Your security requirements and Controls should be based on OWASP Protective control framework\"\"\"\n",
        "\n",
        "generation_config = {\n",
        "    \"max_output_tokens\": 8192,\n",
        "    \"temperature\": 1,\n",
        "    \"top_p\": 0.95,\n",
        "}\n",
        "\n",
        "safety_settings = {\n",
        "    generative_models.HarmCategory.HARM_CATEGORY_HATE_SPEECH: generative_models.HarmBlockThreshold.BLOCK_MEDIUM_AND_ABOVE,\n",
        "    generative_models.HarmCategory.HARM_CATEGORY_DANGEROUS_CONTENT: generative_models.HarmBlockThreshold.BLOCK_MEDIUM_AND_ABOVE,\n",
        "    generative_models.HarmCategory.HARM_CATEGORY_SEXUALLY_EXPLICIT: generative_models.HarmBlockThreshold.BLOCK_MEDIUM_AND_ABOVE,\n",
        "    generative_models.HarmCategory.HARM_CATEGORY_HARASSMENT: generative_models.HarmBlockThreshold.BLOCK_MEDIUM_AND_ABOVE,\n",
        "}\n",
        "\n",
        "multiturn_generate_content()\n",
        "\n"
      ],
      "execution_count": null,
      "outputs": [
        {
          "output_type": "stream",
          "name": "stdout",
          "text": [
            "## Security Requirements and Controls\n",
            "\n",
            "| Security Requirement | Security Control (OWASP) | Description | Status |\n",
            "|---|---|---|---|\n",
            "| **User Data Protection** | **A1 - Cryptographic Protection** | User data such as profile information and messages should be encrypted at rest and in transit. | **To be implemented** |\n",
            "| **Secure Authentication and Authorization** | **A2 - Authentication** | Implement robust authentication mechanisms such as multi-factor authentication (MFA) for both users and administrators. | **Partially Implemented** - Azure Active Directory is used for authentication, but MFA is not explicitly mentioned. |\n",
            "| **Secure Session Management** | **A3 - Session Management** | Use secure session management techniques to prevent unauthorized access to user accounts. Implement secure session timeouts and logout mechanisms. | **To be implemented** |\n",
            "| **Input Validation and Sanitization** | **A6 - Input Validation** | Perform strict input validation and sanitization to prevent cross-site scripting (XSS) attacks and other injection vulnerabilities. | **To be implemented** |\n",
            "| **Access Control** | **A10 - Access Control** | Implement role-based access control (RBAC) to restrict user access to resources based on their roles. | **Partially Implemented** - Azure Active Directory can be used to implement RBAC, but details are not provided. |\n",
            "| **Secure API Management** | **A12 - API Security** | Secure the API layer using measures like API authentication, rate limiting, and API token management. | **Partially Implemented** - API Management is used, but further security measures need to be implemented. |\n",
            "| **Data Security in Cosmos DB** | **A13 - Data Storage Security** | Implement appropriate encryption and access control mechanisms for sensitive data stored in Cosmos DB. | **To be implemented** |\n",
            "| **Logging and Auditing** | **A16 - Logging and Monitoring** | Implement robust logging and auditing mechanisms to track user activity, system events, and security incidents. | **Partially Implemented** - Azure Monitor is used for monitoring but needs to be extended to capture more specific security-related events. |\n",
            "| **Vulnerability Management** | **A17 - Vulnerability Management** | Implement a vulnerability management program to identify and remediate vulnerabilities in the application and infrastructure. | **To be implemented** |\n",
            "| **Secure Deployment** | **A19 - Secure Deployment** | Use secure deployment practices such as automated builds, secure configuration management, and code signing to ensure secure deployments. | **Partially Implemented** - Azure Pipelines are used for CI/CD but need to be enhanced with security best practices. |\n",
            "| **Data Loss Prevention** | **A20 - Data Loss Prevention** | Implement data loss prevention (DLP) measures to prevent unauthorized data exfiltration. | **To be implemented** |\n",
            "\n",
            "**Justification for the Security Controls:**\n",
            "\n",
            "* **A1 - Cryptographic Protection:** Protecting user data is crucial in a dating service. Encryption at rest and in transit ensures that sensitive information is protected even if the system is compromised.\n",
            "* **A2 - Authentication:** Strong authentication mechanisms like MFA are essential for protecting user accounts and preventing unauthorized access.\n",
            "* **A3 - Session Management:** Secure session management ensures that sessions are properly terminated, preventing unauthorized access.\n",
            "* **A6 - Input Validation:** Input validation and sanitization are critical for preventing XSS attacks and other injection vulnerabilities.\n",
            "* **A10 - Access Control:** RBAC ensures that users have only the necessary access privileges, preventing unauthorized access to sensitive data.\n",
            "* **A12 - API Security:** Securing the API layer is crucial for protecting the application from attacks. API authentication, rate limiting, and API token management are important security measures.\n",
            "* **A13 - Data Storage Security:** Encryption and access control mechanisms for Cosmos DB are needed to protect sensitive data stored in the database.\n",
            "* **A16 - Logging and Monitoring:** Comprehensive logging and auditing are essential for detecting and responding to security incidents.\n",
            "* **A17 - Vulnerability Management:** A vulnerability management program is crucial for identifying and remediating vulnerabilities.\n",
            "* **A19 - Secure Deployment:** Secure deployment practices ensure that the application is deployed securely and without vulnerabilities.\n",
            "* **A20 - Data Loss Prevention:** DLP measures are important for preventing unauthorized data exfiltration, which can lead to data breaches.\n",
            "\n",
            "**Recommendations:**\n",
            "\n",
            "* Implement the recommended security controls to address the identified security requirements.\n",
            "* Regularly review and update the security controls to ensure they remain effective.\n",
            "* Educate users about security best practices and encourage them to report suspicious activity.\n",
            "* Conduct security audits and penetration testing to identify vulnerabilities and ensure that security controls are effective.\n",
            "\n",
            "By implementing these security controls, the dating service can mitigate risks and protect user data and privacy.\n",
            "\n"
          ]
        }
      ]
    }
  ],
  "metadata": {
    "kernelspec": {
      "display_name": "Python 3",
      "language": "python",
      "name": "python3"
    },
    "language_info": {
      "codemirror_mode": {
        "name": "ipython",
        "version": 3
      },
      "file_extension": ".py",
      "mimetype": "text/x-python",
      "name": "python",
      "nbconvert_exporter": "python",
      "pygments_lexer": "ipython3",
      "version": "3.10.10"
    },
    "colab": {
      "provenance": [],
      "name": "Sec-Req_Gen-POC May 27, 2024, 3:33:20 PM"
    }
  },
  "nbformat": 4,
  "nbformat_minor": 5
}